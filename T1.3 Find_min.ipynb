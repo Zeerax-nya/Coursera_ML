{
 "cells": [
  {
   "cell_type": "code",
   "execution_count": 86,
   "id": "67ede848",
   "metadata": {},
   "outputs": [],
   "source": [
    "from scipy import optimize\n",
    "import pandas as pd\n",
    "import matplotlib.pyplot as plt\n",
    "import numpy as np\n",
    "# f(x) = sin(x / 5) * exp(x / 10) + 5 * exp(-x / 2)"
   ]
  },
  {
   "cell_type": "code",
   "execution_count": 132,
   "id": "cdeee7f6",
   "metadata": {},
   "outputs": [],
   "source": [
    "def fx(x):\n",
    "    y=np.sin(x/5)*np.exp(x/10)+5*np.exp(-x/2)\n",
    "    return y"
   ]
  },
  {
   "cell_type": "code",
   "execution_count": 93,
   "id": "c058b7bb",
   "metadata": {},
   "outputs": [
    {
     "name": "stdout",
     "output_type": "stream",
     "text": [
      "[ 0.          0.6122449   1.2244898   1.83673469  2.44897959  3.06122449\n",
      "  3.67346939  4.28571429  4.89795918  5.51020408  6.12244898  6.73469388\n",
      "  7.34693878  7.95918367  8.57142857  9.18367347  9.79591837 10.40816327\n",
      " 11.02040816 11.63265306 12.24489796 12.85714286 13.46938776 14.08163265\n",
      " 14.69387755 15.30612245 15.91836735 16.53061224 17.14285714 17.75510204\n",
      " 18.36734694 18.97959184 19.59183673 20.20408163 20.81632653 21.42857143\n",
      " 22.04081633 22.65306122 23.26530612 23.87755102 24.48979592 25.10204082\n",
      " 25.71428571 26.32653061 26.93877551 27.55102041 28.16326531 28.7755102\n",
      " 29.3877551  30.        ]\n",
      "[  5.           3.81133731   2.98470252   2.42740287   2.07052834\n",
      "   1.86255188   1.76461634   1.74706565   1.78689497   1.86588041\n",
      "   1.96921236   2.08450319   2.20107409   2.30945134   2.40102058\n",
      "   2.46780115   2.50231277   2.49751365   2.44679461   2.34401737\n",
      "   2.18358797   1.9605579    1.67074696   1.31088262   0.87875099\n",
      "   0.37335498  -0.20492492  -0.85417168  -1.57077926  -2.34931139\n",
      "  -3.18237653  -4.06052413  -4.97216734  -5.90353743  -6.83867521\n",
      "  -7.75946452  -8.64571269  -9.47528262 -10.22428067 -10.86730378\n",
      " -11.37774881 -11.72818598 -11.89079734 -11.83788011 -11.54241318\n",
      " -10.97868391 -10.12297043  -8.95427325  -7.45508792  -5.61220878]\n"
     ]
    },
    {
     "data": {
      "image/png": "[encoded data removed]",
      "text/plain": [
       "<Figure size 432x288 with 1 Axes>"
      ]
     },
     "metadata": {
      "needs_background": "light"
     },
     "output_type": "display_data"
    }
   ],
   "source": [
    "fig = plt.subplots()\n",
    "x=np.linspace(0,30)\n",
    "print(x)\n",
    "y=fx(x)\n",
    "print(y)\n",
    "plt.plot(x, y)\n",
    "plt.show()"
   ]
  },
  {
   "cell_type": "code",
   "execution_count": 94,
   "id": "28dbbbb3",
   "metadata": {},
   "outputs": [],
   "source": [
    "def fx(x):\n",
    "    y=np.sin(x[0]/5)*np.exp(x[0]/10)+5*np.exp(-x[0]/2)\n",
    "    return y"
   ]
  },
  {
   "cell_type": "code",
   "execution_count": 95,
   "id": "ef156c03",
   "metadata": {},
   "outputs": [
    {
     "name": "stdout",
     "output_type": "stream",
     "text": [
      "      fun: 1.7452682903319903\n",
      " hess_inv: array([[6.02455355]])\n",
      "      jac: array([-8.94069672e-08])\n",
      "  message: 'Optimization terminated successfully.'\n",
      "     nfev: 18\n",
      "      nit: 8\n",
      "     njev: 9\n",
      "   status: 0\n",
      "  success: True\n",
      "        x: array([4.13628824]) \n",
      "\n",
      "      fun: 1.7452682903498573\n",
      " hess_inv: array([[5.98352228]])\n",
      "      jac: array([-2.44379044e-06])\n",
      "  message: 'Optimization terminated successfully.'\n",
      "     nfev: 16\n",
      "      nit: 7\n",
      "     njev: 8\n",
      "   status: 0\n",
      "  success: True\n",
      "        x: array([4.136274]) \n",
      "\n",
      "      fun: 1.7452682903319885\n",
      " hess_inv: array([[6.02611463]])\n",
      "      jac: array([-5.96046448e-08])\n",
      "  message: 'Optimization terminated successfully.'\n",
      "     nfev: 16\n",
      "      nit: 7\n",
      "     njev: 8\n",
      "   status: 0\n",
      "  success: True\n",
      "        x: array([4.13628826]) \n",
      "\n"
     ]
    }
   ],
   "source": [
    "min=scipy.optimize.minimize(fx,x[0])\n",
    "print(min,'\\n')\n",
    "min=scipy.optimize.minimize(fx,x[1])\n",
    "print(min,'\\n')\n",
    "min=scipy.optimize.minimize(fx,x[2])\n",
    "print(min,'\\n')"
   ]
  },
  {
   "cell_type": "code",
   "execution_count": 96,
   "id": "41482028",
   "metadata": {},
   "outputs": [
    {
     "name": "stdout",
     "output_type": "stream",
     "text": [
      "      fun: 1.745268290344928\n",
      " hess_inv: array([[5.98750711]])\n",
      "      jac: array([-2.05636024e-06])\n",
      "  message: 'Optimization terminated successfully.'\n",
      "     nfev: 14\n",
      "      nit: 6\n",
      "     njev: 7\n",
      "   status: 0\n",
      "  success: True\n",
      "        x: array([4.13627619])\n"
     ]
    }
   ],
   "source": [
    "min=scipy.optimize.minimize(fx,2,method='BFGS')\n",
    "print(min)"
   ]
  },
  {
   "cell_type": "code",
   "execution_count": 97,
   "id": "fad710cb",
   "metadata": {},
   "outputs": [
    {
     "name": "stdout",
     "output_type": "stream",
     "text": [
      "      fun: -11.898894665981322\n",
      " hess_inv: array([[1.67940841]])\n",
      "      jac: array([0.])\n",
      "  message: 'Optimization terminated successfully.'\n",
      "     nfev: 14\n",
      "      nit: 6\n",
      "     njev: 7\n",
      "   status: 0\n",
      "  success: True\n",
      "        x: array([25.880193])\n"
     ]
    }
   ],
   "source": [
    "min=scipy.optimize.minimize(fx,30,method='BFGS')\n",
    "print(min)"
   ]
  },
  {
   "cell_type": "code",
   "execution_count": 99,
   "id": "cb46b29b",
   "metadata": {
    "scrolled": true
   },
   "outputs": [
    {
     "name": "stdout",
     "output_type": "stream",
     "text": [
      "     fun: -11.89889466598126\n",
      "     jac: array([5.32907008e-07])\n",
      " message: 'Optimization terminated successfully.'\n",
      "    nfev: 81\n",
      "     nit: 4\n",
      " success: True\n",
      "       x: array([25.88019349])\n"
     ]
    }
   ],
   "source": [
    "min_evo=scipy.optimize.differential_evolution(fx,[(1,30)])\n",
    "print(min_evo)"
   ]
  },
  {
   "cell_type": "code",
   "execution_count": 138,
   "id": "871ca6cc",
   "metadata": {},
   "outputs": [
    {
     "name": "stdout",
     "output_type": "stream",
     "text": [
      "[ 1  2  3  4  5  6  7  8  9 10 11 12 13 14 15 16 17 18 19 20 21 22 23 24\n",
      " 25 26 27 28 29 30]\n",
      "[  3   2   1   1   1   1   2   2   2   2   2   2   1   1   0   0  -1  -2\n",
      "  -4  -5  -7  -8  -9 -10 -11 -11 -11 -10  -8  -5]\n"
     ]
    },
    {
     "data": {
      "image/png": "[encoded data removed]",
      "text/plain": [
       "<Figure size 432x288 with 1 Axes>"
      ]
     },
     "metadata": {
      "needs_background": "light"
     },
     "output_type": "display_data"
    }
   ],
   "source": [
    "def fx(x):\n",
    "    y=np.sin(x/5)*np.exp(x/10)+5*np.exp(-x/2)\n",
    "    return y\n",
    "def func2(x): return int(fx(x))\n",
    "\n",
    "x = np.arange(1, 31)\n",
    "print (x)\n",
    "y = np.array([func2(x) for x in x])\n",
    "print (y)\n",
    "plt.plot(x, y)\n",
    "plt.grid(True)\n",
    "plt.axis([0, 30, -15, 5])\n",
    "plt.show()"
   ]
  },
  {
   "cell_type": "code",
   "execution_count": 144,
   "id": "de764412",
   "metadata": {
    "scrolled": true
   },
   "outputs": [
    {
     "name": "stdout",
     "output_type": "stream",
     "text": [
      "      fun: -5\n",
      " hess_inv: array([[1]])\n",
      "      jac: array([0.])\n",
      "  message: 'Optimization terminated successfully.'\n",
      "     nfev: 2\n",
      "      nit: 0\n",
      "     njev: 1\n",
      "   status: 0\n",
      "  success: True\n",
      "        x: array([30.]) \n",
      "\n",
      "      fun: -11\n",
      " hess_inv: array([[1]])\n",
      "      jac: array([0.])\n",
      "  message: 'Optimization terminated successfully.'\n",
      "     nfev: 2\n",
      "      nit: 0\n",
      "     njev: 1\n",
      "   status: 0\n",
      "  success: True\n",
      "        x: array([25.]) \n",
      "\n",
      "      fun: 0\n",
      " hess_inv: array([[1]])\n",
      "      jac: array([0.])\n",
      "  message: 'Optimization terminated successfully.'\n",
      "     nfev: 2\n",
      "      nit: 0\n",
      "     njev: 1\n",
      "   status: 0\n",
      "  success: True\n",
      "        x: array([15.]) \n",
      "\n",
      "      fun: 1\n",
      " hess_inv: array([[1]])\n",
      "      jac: array([0.])\n",
      "  message: 'Optimization terminated successfully.'\n",
      "     nfev: 2\n",
      "      nit: 0\n",
      "     njev: 1\n",
      "   status: 0\n",
      "  success: True\n",
      "        x: array([5.]) \n",
      "\n",
      "      fun: 3\n",
      " hess_inv: array([[1]])\n",
      "      jac: array([0.])\n",
      "  message: 'Optimization terminated successfully.'\n",
      "     nfev: 2\n",
      "      nit: 0\n",
      "     njev: 1\n",
      "   status: 0\n",
      "  success: True\n",
      "        x: array([1.]) \n",
      "\n"
     ]
    }
   ],
   "source": [
    "min_func2=scipy.optimize.minimize(func2,30,method='BFGS')\n",
    "print(min_func2,'\\n')\n",
    "min_func2=scipy.optimize.minimize(func2,25,method='BFGS')\n",
    "print(min_func2,'\\n')\n",
    "min_func2=scipy.optimize.minimize(func2,15,method='BFGS')\n",
    "print(min_func2,'\\n')\n",
    "min_func2=scipy.optimize.minimize(func2,5,method='BFGS')\n",
    "print(min_func2,'\\n')\n",
    "min_func2=scipy.optimize.minimize(func2,1,method='BFGS')\n",
    "print(min_func2,'\\n')"
   ]
  },
  {
   "cell_type": "code",
   "execution_count": 141,
   "id": "7eefcae1",
   "metadata": {},
   "outputs": [
    {
     "name": "stdout",
     "output_type": "stream",
     "text": [
      "     fun: -11.0\n",
      " message: 'Optimization terminated successfully.'\n",
      "    nfev: 122\n",
      "     nit: 7\n",
      " success: True\n",
      "       x: array([26.11127121])\n"
     ]
    }
   ],
   "source": [
    "min_func2=scipy.optimize.differential_evolution(func2,[(1,30)])\n",
    "print(min_func2)"
   ]
  },
  {
   "cell_type": "code",
   "execution_count": null,
   "id": "7273d065",
   "metadata": {},
   "outputs": [],
   "source": []
  }
 ],
 "metadata": {
  "kernelspec": {
   "display_name": "Python 3",
   "language": "python",
   "name": "python3"
  },
  "language_info": {
   "codemirror_mode": {
    "name": "ipython",
    "version": 3
   },
   "file_extension": ".py",
   "mimetype": "text/x-python",
   "name": "python",
   "nbconvert_exporter": "python",
   "pygments_lexer": "ipython3",
   "version": "3.8.8"
  }
 },
 "nbformat": 4,
 "nbformat_minor": 5
}
